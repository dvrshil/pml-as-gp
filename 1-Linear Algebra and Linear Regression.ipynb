{
 "cells": [
  {
   "cell_type": "code",
   "execution_count": 1,
   "id": "40b8b45a",
   "metadata": {},
   "outputs": [],
   "source": [
    "from os.path import exists\n",
    "import requests\n",
    "from typing import *\n",
    "\n",
    "import numpy as np\n",
    "import pandas as pd\n",
    "from tqdm.notebook import trange, tqdm"
   ]
  },
  {
   "cell_type": "markdown",
   "id": "1c3591ce",
   "metadata": {},
   "source": [
    "# Notebook 1: Linear Algebra and Linear Regression"
   ]
  },
  {
   "cell_type": "markdown",
   "id": "916d1cfa",
   "metadata": {},
   "source": [
    "## Problem 1\n",
    "\n",
    "Determine if each column of a $(n x m)$ matrix $X$ is a basis for $R^n$ where $n \\geq 1$ and $m \\geq 1$.\n",
    "\n",
    "Example 1:\n",
    "$$\n",
    "A = \\begin{pmatrix}\n",
    "0.5 & 0 \\\\\n",
    "0 & -0.2 \n",
    "\\end{pmatrix}\n",
    "$$\n",
    "\n",
    "```\n",
    "check_basis(A) = true\n",
    "```\n",
    "\n",
    "Example 2:\n",
    "$$\n",
    "B = \\begin{pmatrix}\n",
    "0.5 \\\\\n",
    "0 \n",
    "\\end{pmatrix}\n",
    "$$\n",
    "\n",
    "```\n",
    "check_basis(B) = false\n",
    "```\n",
    "\n",
    "Example 3:\n",
    "$$\n",
    "C = \\begin{pmatrix}\n",
    "0.5 & 0 \\\\\n",
    "0.2 & -0.2 \\\\\n",
    "0.3 & -0.4 \n",
    "\\end{pmatrix}\n",
    "$$\n",
    "\n",
    "```\n",
    "check_basis(C) = false\n",
    "```\n",
    "\n",
    "Example 4:\n",
    "$$\n",
    "D = \\begin{pmatrix}\n",
    "0.5 & 0 & 1 \\\\\n",
    "0.2 & -0.2 & 1 \\\\\n",
    "\\end{pmatrix}\n",
    "$$\n",
    "\n",
    "```\n",
    "check_basis(D) = true\n",
    "```"
   ]
  },
  {
   "cell_type": "code",
   "execution_count": 2,
   "id": "1c0f5015",
   "metadata": {},
   "outputs": [],
   "source": [
    "# Saved these matrices to check some examples.\n",
    "\n",
    "A = np.array([[0.5, 0], [0, -0.2]]) #True\n",
    "B = np.array([[0.5, 0]]) #False\n",
    "C = np.array([[0.5, 0.2, 0.3], [0, -0.2, 0.4]]) #False\n",
    "D = np.array([[0.5, 0.2], [0, -0.2], [0.3, -0.4]]) #True\n",
    "E = np.array([[1, 1], [1, 0]]) #True\n",
    "F = np.array([[1, 1], [2, 2], [3, 3]]) #False\n",
    "G = np.array([[0, 1], [1, 0]]) #True\n",
    "\n",
    "# np.size(D, 0)\n",
    "# np.linalg.matrix_rank(A)"
   ]
  },
  {
   "cell_type": "code",
   "execution_count": 3,
   "id": "b7843441",
   "metadata": {},
   "outputs": [],
   "source": [
    "def check_basis(X: np.ndarray) -> bool:\n",
    "    \n",
    "    #if np.size(X, 0) < np.size(X, 1):\n",
    "        #return False\n",
    "    \n",
    "    if np.linalg.matrix_rank(X) < X.shape[1]:\n",
    "        return False\n",
    "    \n",
    "    return True"
   ]
  },
  {
   "cell_type": "code",
   "execution_count": 4,
   "id": "f35b7b34",
   "metadata": {},
   "outputs": [
    {
     "data": {
      "text/plain": [
       "True"
      ]
     },
     "execution_count": 4,
     "metadata": {},
     "output_type": "execute_result"
    }
   ],
   "source": [
    "check_basis(D)"
   ]
  },
  {
   "cell_type": "markdown",
   "id": "d4526ee4",
   "metadata": {},
   "source": [
    "## Problem 2\n",
    "\n",
    "We saw that we could solve\n",
    "$$\n",
    "Ax = b\n",
    "$$\n",
    "where $A$ is a $n \\times n$ matrix, $x$ is a $n \\times 1$ vector, and $b$ is a $n \\times 1$ vector."
   ]
  },
  {
   "cell_type": "markdown",
   "id": "9a9bcb2e",
   "metadata": {},
   "source": [
    "### Problem 2a\n",
    "\n",
    "Write a function that solves the matrix equation for $n \\times n$ $X$\n",
    "$$\n",
    "AX = B\n",
    "$$\n",
    "where $A$ is a $n \\times n$ matrix and $B$ is a $n \\times n$ matrix."
   ]
  },
  {
   "cell_type": "code",
   "execution_count": 5,
   "id": "079feb15",
   "metadata": {},
   "outputs": [],
   "source": [
    "A = np.array([[1, 2], [2, 3]])\n",
    "B = np.array([[3, 5], [1, 4]])\n",
    "\n",
    "P = np.array([[1, 2, 1], [1, -3, 1], [1, -1, -1]])\n",
    "Q = np.array([[5, 0, -2], [0, 1, 0], [-2, 0, 3]])"
   ]
  },
  {
   "cell_type": "code",
   "execution_count": 6,
   "id": "f0cabba5",
   "metadata": {},
   "outputs": [
    {
     "data": {
      "text/plain": [
       "(array([[-7., -7.],\n",
       "        [ 5.,  6.]]),\n",
       " array([[-7., -7.],\n",
       "        [ 5.,  6.]]))"
      ]
     },
     "execution_count": 6,
     "metadata": {},
     "output_type": "execute_result"
    }
   ],
   "source": [
    "# method 1\n",
    "\n",
    "def solve_matrix(A: np.ndarray, B: np.ndarray) -> np.ndarray: \n",
    "    \n",
    "    return np.linalg.lstsq(A.transpose() @ A, A.transpose() @ B, rcond=None)[0]\n",
    "    # np.linalg.solve() works almost the same as np.linalg.lstsq() as shown at the bottom of the notebook.\n",
    "\n",
    "# method 2: not ideal\n",
    "\n",
    "def solve_matrixinv(A: np.ndarray, B: np.ndarray) -> np.ndarray:    \n",
    "    return np.linalg.inv(A.transpose() @ A) @ A.transpose() @ B\n",
    "\n",
    "solve_matrix(A, B), solve_matrixinv(A, B)"
   ]
  },
  {
   "cell_type": "markdown",
   "id": "fe9e5f83",
   "metadata": {},
   "source": [
    "### Problem 2b\n",
    "\n",
    "Write a function that solves the matrix equation for $n \\times n$ $X$\n",
    "$$\n",
    "A_1 A_2 X = B\n",
    "$$\n",
    "where $A_1$, $A_2$, and $B$ are $n \\times n$ matrices."
   ]
  },
  {
   "cell_type": "code",
   "execution_count": 7,
   "id": "06638aa1",
   "metadata": {},
   "outputs": [
    {
     "data": {
      "text/plain": [
       "(array([[ 1.50000000e+00,  1.70000000e-01, -7.10000000e-01],\n",
       "        [ 2.53765263e-17,  6.00000000e-02,  2.20000000e-01],\n",
       "        [-5.00000000e-01, -1.90000000e-01,  9.70000000e-01]]),\n",
       " array([[ 1.50000000e+00,  1.70000000e-01, -7.10000000e-01],\n",
       "        [-2.77555756e-17,  6.00000000e-02,  2.20000000e-01],\n",
       "        [-5.00000000e-01, -1.90000000e-01,  9.70000000e-01]]))"
      ]
     },
     "execution_count": 7,
     "metadata": {},
     "output_type": "execute_result"
    }
   ],
   "source": [
    "# method 1\n",
    "\n",
    "def solve_matrix2(A1: np.ndarray, A2: np.ndarray, B: np.ndarray) -> np.ndarray: \n",
    "    \n",
    "    return np.linalg.solve(A1 @ A2, B)\n",
    "\n",
    "#method 2: not ideal\n",
    "\n",
    "def solve_matrix2inv(A1: np.ndarray, A2: np.ndarray, B: np.ndarray) -> np.ndarray:\n",
    "    return np.linalg.inv(A1 @ A2) @ B\n",
    "\n",
    "solve_matrix2(P, P, Q), solve_matrix2inv(P, P, Q)"
   ]
  },
  {
   "cell_type": "markdown",
   "id": "bb03b443",
   "metadata": {},
   "source": [
    "## Problem 3\n",
    "\n",
    "Now we'll get to practice using linear regression on a dataset."
   ]
  },
  {
   "cell_type": "markdown",
   "id": "467d936a",
   "metadata": {},
   "source": [
    "# Dataset\n",
    "\n",
    "Site: https://archive.ics.uci.edu/ml/datasets/Physicochemical+Properties+of+Protein+Tertiary+Structure\n",
    "\n",
    "### Attributes Information:\n",
    "\n",
    "- RMSD - Size of the residue. \n",
    "- F1 - Total surface area. \n",
    "- F2 - Non polar exposed area. \n",
    "- F3 - Fractional area of exposed non polar residue. \n",
    "- F4 - Fractional area of exposed non polar part of residue. \n",
    "- F5 - Molecular mass weighted exposed area. \n",
    "- F6 - Average deviation from standard exposed area of residue. \n",
    "- F7 - Euclidian distance. \n",
    "- F8 - Secondary structure penalty. \n",
    "- F9 - Spacial Distribution constraints (N,K Value)."
   ]
  },
  {
   "cell_type": "code",
   "execution_count": 8,
   "id": "efa4c576",
   "metadata": {},
   "outputs": [],
   "source": [
    "if not exists('casp.csv'):\n",
    "    \n",
    "    url = \"https://archive.ics.uci.edu/ml/machine-learning-databases/00265/CASP.csv\"\n",
    "    response = requests.get(url, stream=True)\n",
    "\n",
    "    with open(\"casp.csv\", \"wb\") as f:\n",
    "        for data in tqdm(response.iter_content()):\n",
    "            f.write(data)"
   ]
  },
  {
   "cell_type": "code",
   "execution_count": 9,
   "id": "720ddbdf",
   "metadata": {},
   "outputs": [
    {
     "data": {
      "text/html": [
       "<div>\n",
       "<style scoped>\n",
       "    .dataframe tbody tr th:only-of-type {\n",
       "        vertical-align: middle;\n",
       "    }\n",
       "\n",
       "    .dataframe tbody tr th {\n",
       "        vertical-align: top;\n",
       "    }\n",
       "\n",
       "    .dataframe thead th {\n",
       "        text-align: right;\n",
       "    }\n",
       "</style>\n",
       "<table border=\"1\" class=\"dataframe\">\n",
       "  <thead>\n",
       "    <tr style=\"text-align: right;\">\n",
       "      <th></th>\n",
       "      <th>RMSD</th>\n",
       "      <th>F1</th>\n",
       "      <th>F2</th>\n",
       "      <th>F3</th>\n",
       "      <th>F4</th>\n",
       "      <th>F5</th>\n",
       "      <th>F6</th>\n",
       "      <th>F7</th>\n",
       "      <th>F8</th>\n",
       "      <th>F9</th>\n",
       "    </tr>\n",
       "  </thead>\n",
       "  <tbody>\n",
       "    <tr>\n",
       "      <th>0</th>\n",
       "      <td>17.284</td>\n",
       "      <td>13558.30</td>\n",
       "      <td>4305.35</td>\n",
       "      <td>0.31754</td>\n",
       "      <td>162.1730</td>\n",
       "      <td>1.872791e+06</td>\n",
       "      <td>215.3590</td>\n",
       "      <td>4287.87</td>\n",
       "      <td>102</td>\n",
       "      <td>27.0302</td>\n",
       "    </tr>\n",
       "    <tr>\n",
       "      <th>1</th>\n",
       "      <td>6.021</td>\n",
       "      <td>6191.96</td>\n",
       "      <td>1623.16</td>\n",
       "      <td>0.26213</td>\n",
       "      <td>53.3894</td>\n",
       "      <td>8.034467e+05</td>\n",
       "      <td>87.2024</td>\n",
       "      <td>3328.91</td>\n",
       "      <td>39</td>\n",
       "      <td>38.5468</td>\n",
       "    </tr>\n",
       "    <tr>\n",
       "      <th>2</th>\n",
       "      <td>9.275</td>\n",
       "      <td>7725.98</td>\n",
       "      <td>1726.28</td>\n",
       "      <td>0.22343</td>\n",
       "      <td>67.2887</td>\n",
       "      <td>1.075648e+06</td>\n",
       "      <td>81.7913</td>\n",
       "      <td>2981.04</td>\n",
       "      <td>29</td>\n",
       "      <td>38.8119</td>\n",
       "    </tr>\n",
       "    <tr>\n",
       "      <th>3</th>\n",
       "      <td>15.851</td>\n",
       "      <td>8424.58</td>\n",
       "      <td>2368.25</td>\n",
       "      <td>0.28111</td>\n",
       "      <td>67.8325</td>\n",
       "      <td>1.210472e+06</td>\n",
       "      <td>109.4390</td>\n",
       "      <td>3248.22</td>\n",
       "      <td>70</td>\n",
       "      <td>39.0651</td>\n",
       "    </tr>\n",
       "    <tr>\n",
       "      <th>4</th>\n",
       "      <td>7.962</td>\n",
       "      <td>7460.84</td>\n",
       "      <td>1736.94</td>\n",
       "      <td>0.23280</td>\n",
       "      <td>52.4123</td>\n",
       "      <td>1.021020e+06</td>\n",
       "      <td>94.5234</td>\n",
       "      <td>2814.42</td>\n",
       "      <td>41</td>\n",
       "      <td>39.9147</td>\n",
       "    </tr>\n",
       "    <tr>\n",
       "      <th>...</th>\n",
       "      <td>...</td>\n",
       "      <td>...</td>\n",
       "      <td>...</td>\n",
       "      <td>...</td>\n",
       "      <td>...</td>\n",
       "      <td>...</td>\n",
       "      <td>...</td>\n",
       "      <td>...</td>\n",
       "      <td>...</td>\n",
       "      <td>...</td>\n",
       "    </tr>\n",
       "    <tr>\n",
       "      <th>45725</th>\n",
       "      <td>3.762</td>\n",
       "      <td>8037.12</td>\n",
       "      <td>2777.68</td>\n",
       "      <td>0.34560</td>\n",
       "      <td>64.3390</td>\n",
       "      <td>1.105797e+06</td>\n",
       "      <td>112.7460</td>\n",
       "      <td>3384.21</td>\n",
       "      <td>84</td>\n",
       "      <td>36.8036</td>\n",
       "    </tr>\n",
       "    <tr>\n",
       "      <th>45726</th>\n",
       "      <td>6.521</td>\n",
       "      <td>7978.76</td>\n",
       "      <td>2508.57</td>\n",
       "      <td>0.31440</td>\n",
       "      <td>75.8654</td>\n",
       "      <td>1.116725e+06</td>\n",
       "      <td>102.2770</td>\n",
       "      <td>3974.52</td>\n",
       "      <td>54</td>\n",
       "      <td>36.0470</td>\n",
       "    </tr>\n",
       "    <tr>\n",
       "      <th>45727</th>\n",
       "      <td>10.356</td>\n",
       "      <td>7726.65</td>\n",
       "      <td>2489.58</td>\n",
       "      <td>0.32220</td>\n",
       "      <td>70.9903</td>\n",
       "      <td>1.076560e+06</td>\n",
       "      <td>103.6780</td>\n",
       "      <td>3290.46</td>\n",
       "      <td>46</td>\n",
       "      <td>37.4718</td>\n",
       "    </tr>\n",
       "    <tr>\n",
       "      <th>45728</th>\n",
       "      <td>9.791</td>\n",
       "      <td>8878.93</td>\n",
       "      <td>3055.78</td>\n",
       "      <td>0.34416</td>\n",
       "      <td>94.0314</td>\n",
       "      <td>1.242266e+06</td>\n",
       "      <td>115.1950</td>\n",
       "      <td>3421.79</td>\n",
       "      <td>41</td>\n",
       "      <td>35.6045</td>\n",
       "    </tr>\n",
       "    <tr>\n",
       "      <th>45729</th>\n",
       "      <td>18.827</td>\n",
       "      <td>12732.40</td>\n",
       "      <td>4444.36</td>\n",
       "      <td>0.34905</td>\n",
       "      <td>157.6300</td>\n",
       "      <td>1.788897e+06</td>\n",
       "      <td>229.4590</td>\n",
       "      <td>4626.85</td>\n",
       "      <td>141</td>\n",
       "      <td>29.8118</td>\n",
       "    </tr>\n",
       "  </tbody>\n",
       "</table>\n",
       "<p>45730 rows × 10 columns</p>\n",
       "</div>"
      ],
      "text/plain": [
       "         RMSD        F1       F2       F3        F4            F5        F6  \\\n",
       "0      17.284  13558.30  4305.35  0.31754  162.1730  1.872791e+06  215.3590   \n",
       "1       6.021   6191.96  1623.16  0.26213   53.3894  8.034467e+05   87.2024   \n",
       "2       9.275   7725.98  1726.28  0.22343   67.2887  1.075648e+06   81.7913   \n",
       "3      15.851   8424.58  2368.25  0.28111   67.8325  1.210472e+06  109.4390   \n",
       "4       7.962   7460.84  1736.94  0.23280   52.4123  1.021020e+06   94.5234   \n",
       "...       ...       ...      ...      ...       ...           ...       ...   \n",
       "45725   3.762   8037.12  2777.68  0.34560   64.3390  1.105797e+06  112.7460   \n",
       "45726   6.521   7978.76  2508.57  0.31440   75.8654  1.116725e+06  102.2770   \n",
       "45727  10.356   7726.65  2489.58  0.32220   70.9903  1.076560e+06  103.6780   \n",
       "45728   9.791   8878.93  3055.78  0.34416   94.0314  1.242266e+06  115.1950   \n",
       "45729  18.827  12732.40  4444.36  0.34905  157.6300  1.788897e+06  229.4590   \n",
       "\n",
       "            F7   F8       F9  \n",
       "0      4287.87  102  27.0302  \n",
       "1      3328.91   39  38.5468  \n",
       "2      2981.04   29  38.8119  \n",
       "3      3248.22   70  39.0651  \n",
       "4      2814.42   41  39.9147  \n",
       "...        ...  ...      ...  \n",
       "45725  3384.21   84  36.8036  \n",
       "45726  3974.52   54  36.0470  \n",
       "45727  3290.46   46  37.4718  \n",
       "45728  3421.79   41  35.6045  \n",
       "45729  4626.85  141  29.8118  \n",
       "\n",
       "[45730 rows x 10 columns]"
      ]
     },
     "execution_count": 9,
     "metadata": {},
     "output_type": "execute_result"
    }
   ],
   "source": [
    "df = pd.read_csv('casp.csv')\n",
    "df"
   ]
  },
  {
   "cell_type": "markdown",
   "id": "e126e6dd",
   "metadata": {},
   "source": [
    "### Problem 3a\n",
    "\n",
    "Write a function that splits a data matrix X into two halves according to train which gives the percentage of the dataset to put in the first half. Each row of the data matrix corresponds to a point and each column corresponds to a feature.\n",
    "\n",
    "1. A number of 50 means 50% in the first half and 50% in the second half.\n",
    "2. A number of 20 means 20% in the first half and 80% in the second half."
   ]
  },
  {
   "cell_type": "code",
   "execution_count": 10,
   "id": "29cbfc90",
   "metadata": {},
   "outputs": [],
   "source": [
    "def split_dataset(X: np.ndarray, train: int) -> (np.ndarray, np.ndarray):\n",
    "    \n",
    "    if 0 > train or train > 100:\n",
    "        raise ValueError(\"Train should be between 0 and 100\")\n",
    "\n",
    "    train_size = int(train / 100 * X.shape[0])\n",
    "    return df.iloc[:train_size, :], df.iloc[train_size:, :]\n",
    "    \n",
    "    raise Error(\"TODO\")"
   ]
  },
  {
   "cell_type": "code",
   "execution_count": 11,
   "id": "d4a3def5",
   "metadata": {},
   "outputs": [
    {
     "name": "stdout",
     "output_type": "stream",
     "text": [
      "Fraction assigned to test set: 0.2\n"
     ]
    },
    {
     "data": {
      "text/plain": [
       "(36584, 10)"
      ]
     },
     "execution_count": 11,
     "metadata": {},
     "output_type": "execute_result"
    }
   ],
   "source": [
    "train, test = split_dataset(df.values, 80)\n",
    "\n",
    "print(\"Fraction assigned to test set: \" + str(np.size(test)/(np.size(train)+np.size(test))))\n",
    "\n",
    "np.shape(train)"
   ]
  },
  {
   "cell_type": "markdown",
   "id": "027773ee",
   "metadata": {},
   "source": [
    "### Problem 3b\n",
    "\n",
    "Write a function that takes a Pandas dataframe `df`, a list of features `feature_keys` which are columns in a Pandas dataframe, and a Pandas key `y_key` that is a column corresponding to the regression value, and produces the weights of the linear regression.\n",
    "1. The constant weight should be the $0$-th index.\n",
    "2. The weights should be given in the order of the features."
   ]
  },
  {
   "cell_type": "code",
   "execution_count": 12,
   "id": "e3df4e73",
   "metadata": {},
   "outputs": [
    {
     "data": {
      "text/plain": [
       "array([ 7.82256287e-04,  3.11624224e-03,  8.26217493e-04, -9.36701930e-02,\n",
       "       -1.16342246e-06, -2.40088008e-02, -9.17442805e-05,  1.59056106e-02,\n",
       "        1.34188182e-01])"
      ]
     },
     "execution_count": 12,
     "metadata": {},
     "output_type": "execute_result"
    }
   ],
   "source": [
    "def fit_regression(df: pd.DataFrame, feature_keys: List[str], y_key: str) -> np.ndarray:\n",
    "    \n",
    "    features = df[feature_keys].values\n",
    "    y = df[y_key].values\n",
    "\n",
    "    weights = solve_matrix(features, y)\n",
    "    return weights\n",
    "\n",
    "feature_columns = ['F1', 'F2', 'F3', 'F4', 'F5', 'F6', 'F7', 'F8', 'F9']\n",
    "y_column = 'RMSD'\n",
    "weights = fit_regression(train, feature_columns, y_column)\n",
    "\n",
    "weights"
   ]
  },
  {
   "cell_type": "markdown",
   "id": "e3d1089a",
   "metadata": {},
   "source": [
    "### Problem 3c\n",
    "\n",
    "Write a prediction function that takes the weights of a linear regression, a data point, and produces a prediction."
   ]
  },
  {
   "cell_type": "code",
   "execution_count": 13,
   "id": "67f94370",
   "metadata": {},
   "outputs": [],
   "source": [
    "def prediction(weights: np.ndarray, x: np.ndarray) -> float:\n",
    "    \n",
    "    return weights @ x"
   ]
  },
  {
   "cell_type": "code",
   "execution_count": 14,
   "id": "7f2e402a",
   "metadata": {},
   "outputs": [
    {
     "data": {
      "text/plain": [
       "array([1.41550863, 6.8691442 , 6.5959128 , ..., 8.86931689, 8.565424  ,\n",
       "       7.2730752 ])"
      ]
     },
     "execution_count": 14,
     "metadata": {},
     "output_type": "execute_result"
    }
   ],
   "source": [
    "predictions = prediction(weights, test[feature_columns].values.transpose())\n",
    "predictions"
   ]
  },
  {
   "cell_type": "code",
   "execution_count": 15,
   "id": "74cb0dea",
   "metadata": {},
   "outputs": [
    {
     "data": {
      "text/html": [
       "<div>\n",
       "<style scoped>\n",
       "    .dataframe tbody tr th:only-of-type {\n",
       "        vertical-align: middle;\n",
       "    }\n",
       "\n",
       "    .dataframe tbody tr th {\n",
       "        vertical-align: top;\n",
       "    }\n",
       "\n",
       "    .dataframe thead th {\n",
       "        text-align: right;\n",
       "    }\n",
       "</style>\n",
       "<table border=\"1\" class=\"dataframe\">\n",
       "  <thead>\n",
       "    <tr style=\"text-align: right;\">\n",
       "      <th></th>\n",
       "      <th>RMSD</th>\n",
       "      <th>F1</th>\n",
       "      <th>F2</th>\n",
       "      <th>F3</th>\n",
       "      <th>F4</th>\n",
       "      <th>F5</th>\n",
       "      <th>F6</th>\n",
       "      <th>F7</th>\n",
       "      <th>F8</th>\n",
       "      <th>F9</th>\n",
       "    </tr>\n",
       "  </thead>\n",
       "  <tbody>\n",
       "    <tr>\n",
       "      <th>36584</th>\n",
       "      <td>2.096</td>\n",
       "      <td>16930.50</td>\n",
       "      <td>3898.60</td>\n",
       "      <td>0.23027</td>\n",
       "      <td>203.1190</td>\n",
       "      <td>2.390636e+06</td>\n",
       "      <td>264.4190</td>\n",
       "      <td>5602.09</td>\n",
       "      <td>98</td>\n",
       "      <td>23.3512</td>\n",
       "    </tr>\n",
       "    <tr>\n",
       "      <th>36585</th>\n",
       "      <td>1.257</td>\n",
       "      <td>5596.07</td>\n",
       "      <td>1246.98</td>\n",
       "      <td>0.22283</td>\n",
       "      <td>51.7444</td>\n",
       "      <td>8.104006e+05</td>\n",
       "      <td>70.9034</td>\n",
       "      <td>2840.34</td>\n",
       "      <td>59</td>\n",
       "      <td>40.3889</td>\n",
       "    </tr>\n",
       "    <tr>\n",
       "      <th>36586</th>\n",
       "      <td>7.008</td>\n",
       "      <td>5648.33</td>\n",
       "      <td>1763.51</td>\n",
       "      <td>0.31221</td>\n",
       "      <td>62.8576</td>\n",
       "      <td>7.395403e+05</td>\n",
       "      <td>87.5732</td>\n",
       "      <td>3270.77</td>\n",
       "      <td>41</td>\n",
       "      <td>38.6058</td>\n",
       "    </tr>\n",
       "    <tr>\n",
       "      <th>36587</th>\n",
       "      <td>10.930</td>\n",
       "      <td>8352.28</td>\n",
       "      <td>1664.81</td>\n",
       "      <td>0.19932</td>\n",
       "      <td>80.1154</td>\n",
       "      <td>1.153948e+06</td>\n",
       "      <td>118.5080</td>\n",
       "      <td>3847.18</td>\n",
       "      <td>41</td>\n",
       "      <td>35.7656</td>\n",
       "    </tr>\n",
       "    <tr>\n",
       "      <th>36588</th>\n",
       "      <td>2.634</td>\n",
       "      <td>10632.80</td>\n",
       "      <td>3645.47</td>\n",
       "      <td>0.34285</td>\n",
       "      <td>124.4450</td>\n",
       "      <td>1.437999e+06</td>\n",
       "      <td>190.1710</td>\n",
       "      <td>3740.54</td>\n",
       "      <td>33</td>\n",
       "      <td>33.2004</td>\n",
       "    </tr>\n",
       "    <tr>\n",
       "      <th>...</th>\n",
       "      <td>...</td>\n",
       "      <td>...</td>\n",
       "      <td>...</td>\n",
       "      <td>...</td>\n",
       "      <td>...</td>\n",
       "      <td>...</td>\n",
       "      <td>...</td>\n",
       "      <td>...</td>\n",
       "      <td>...</td>\n",
       "      <td>...</td>\n",
       "    </tr>\n",
       "    <tr>\n",
       "      <th>45725</th>\n",
       "      <td>3.762</td>\n",
       "      <td>8037.12</td>\n",
       "      <td>2777.68</td>\n",
       "      <td>0.34560</td>\n",
       "      <td>64.3390</td>\n",
       "      <td>1.105797e+06</td>\n",
       "      <td>112.7460</td>\n",
       "      <td>3384.21</td>\n",
       "      <td>84</td>\n",
       "      <td>36.8036</td>\n",
       "    </tr>\n",
       "    <tr>\n",
       "      <th>45726</th>\n",
       "      <td>6.521</td>\n",
       "      <td>7978.76</td>\n",
       "      <td>2508.57</td>\n",
       "      <td>0.31440</td>\n",
       "      <td>75.8654</td>\n",
       "      <td>1.116725e+06</td>\n",
       "      <td>102.2770</td>\n",
       "      <td>3974.52</td>\n",
       "      <td>54</td>\n",
       "      <td>36.0470</td>\n",
       "    </tr>\n",
       "    <tr>\n",
       "      <th>45727</th>\n",
       "      <td>10.356</td>\n",
       "      <td>7726.65</td>\n",
       "      <td>2489.58</td>\n",
       "      <td>0.32220</td>\n",
       "      <td>70.9903</td>\n",
       "      <td>1.076560e+06</td>\n",
       "      <td>103.6780</td>\n",
       "      <td>3290.46</td>\n",
       "      <td>46</td>\n",
       "      <td>37.4718</td>\n",
       "    </tr>\n",
       "    <tr>\n",
       "      <th>45728</th>\n",
       "      <td>9.791</td>\n",
       "      <td>8878.93</td>\n",
       "      <td>3055.78</td>\n",
       "      <td>0.34416</td>\n",
       "      <td>94.0314</td>\n",
       "      <td>1.242266e+06</td>\n",
       "      <td>115.1950</td>\n",
       "      <td>3421.79</td>\n",
       "      <td>41</td>\n",
       "      <td>35.6045</td>\n",
       "    </tr>\n",
       "    <tr>\n",
       "      <th>45729</th>\n",
       "      <td>18.827</td>\n",
       "      <td>12732.40</td>\n",
       "      <td>4444.36</td>\n",
       "      <td>0.34905</td>\n",
       "      <td>157.6300</td>\n",
       "      <td>1.788897e+06</td>\n",
       "      <td>229.4590</td>\n",
       "      <td>4626.85</td>\n",
       "      <td>141</td>\n",
       "      <td>29.8118</td>\n",
       "    </tr>\n",
       "  </tbody>\n",
       "</table>\n",
       "<p>9146 rows × 10 columns</p>\n",
       "</div>"
      ],
      "text/plain": [
       "         RMSD        F1       F2       F3        F4            F5        F6  \\\n",
       "36584   2.096  16930.50  3898.60  0.23027  203.1190  2.390636e+06  264.4190   \n",
       "36585   1.257   5596.07  1246.98  0.22283   51.7444  8.104006e+05   70.9034   \n",
       "36586   7.008   5648.33  1763.51  0.31221   62.8576  7.395403e+05   87.5732   \n",
       "36587  10.930   8352.28  1664.81  0.19932   80.1154  1.153948e+06  118.5080   \n",
       "36588   2.634  10632.80  3645.47  0.34285  124.4450  1.437999e+06  190.1710   \n",
       "...       ...       ...      ...      ...       ...           ...       ...   \n",
       "45725   3.762   8037.12  2777.68  0.34560   64.3390  1.105797e+06  112.7460   \n",
       "45726   6.521   7978.76  2508.57  0.31440   75.8654  1.116725e+06  102.2770   \n",
       "45727  10.356   7726.65  2489.58  0.32220   70.9903  1.076560e+06  103.6780   \n",
       "45728   9.791   8878.93  3055.78  0.34416   94.0314  1.242266e+06  115.1950   \n",
       "45729  18.827  12732.40  4444.36  0.34905  157.6300  1.788897e+06  229.4590   \n",
       "\n",
       "            F7   F8       F9  \n",
       "36584  5602.09   98  23.3512  \n",
       "36585  2840.34   59  40.3889  \n",
       "36586  3270.77   41  38.6058  \n",
       "36587  3847.18   41  35.7656  \n",
       "36588  3740.54   33  33.2004  \n",
       "...        ...  ...      ...  \n",
       "45725  3384.21   84  36.8036  \n",
       "45726  3974.52   54  36.0470  \n",
       "45727  3290.46   46  37.4718  \n",
       "45728  3421.79   41  35.6045  \n",
       "45729  4626.85  141  29.8118  \n",
       "\n",
       "[9146 rows x 10 columns]"
      ]
     },
     "execution_count": 15,
     "metadata": {},
     "output_type": "execute_result"
    }
   ],
   "source": [
    "test"
   ]
  },
  {
   "cell_type": "markdown",
   "id": "60a8cbc6",
   "metadata": {},
   "source": [
    "### Problem 3d\n",
    "\n",
    "Write a function that computes the root mean square error (rmse) on a data matrix $X$ with rows $X_1, \\dots X_n$, and corresponding values $y = (y_1 \\dots y_n)$ given a prediction function $f$. The rmse is defined as\n",
    "$$\n",
    "\\sqrt{\\frac{1}{n}\\sum_{i=1}^n \\lVert f(X_i) - y_i \\rVert^2}\n",
    "$$"
   ]
  },
  {
   "cell_type": "code",
   "execution_count": 16,
   "id": "ab76e55c",
   "metadata": {},
   "outputs": [],
   "source": [
    "def rmse(predictions: Callable[[np.ndarray, np.ndarray], float], X: np.ndarray, y: np.ndarray) -> float:\n",
    "    \n",
    "    return np.sqrt(np.mean((predictions - y)**2))"
   ]
  },
  {
   "cell_type": "code",
   "execution_count": 17,
   "id": "5f6252e3",
   "metadata": {},
   "outputs": [
    {
     "name": "stdout",
     "output_type": "stream",
     "text": [
      "RMSE: 5.255331673714851\n",
      "Average value of the RMSD: 7.734758582987098\n"
     ]
    }
   ],
   "source": [
    "print (\"RMSE: \" + str(rmse(predictions, test[feature_columns].values, test[y_column].values)))\n",
    "print(\"Average value of the RMSD: \" + str(np.mean(test[y_column].values)))"
   ]
  },
  {
   "cell_type": "markdown",
   "id": "9296ad3f",
   "metadata": {},
   "source": [
    "- We see here that RMSE value is relatively very big compared to the average of RMSD (y) values.\n",
    "- We see below that functions linalg.lstsq() and linalg.solve() result in almost if not exatly the same weight coefficients."
   ]
  },
  {
   "cell_type": "code",
   "execution_count": 18,
   "id": "8df146d9",
   "metadata": {},
   "outputs": [
    {
     "data": {
      "text/plain": [
       "array([ 1.97300198e-03,  6.94203811e-04,  2.51239863e+01, -1.12558359e-01,\n",
       "       -4.01309190e-06, -2.53056743e-02, -1.47530136e-04,  1.77020162e-02,\n",
       "       -3.67679184e-02])"
      ]
     },
     "execution_count": 18,
     "metadata": {},
     "output_type": "execute_result"
    }
   ],
   "source": [
    "np.linalg.lstsq(test[feature_columns], test[y_column], rcond=None)[0]"
   ]
  },
  {
   "cell_type": "code",
   "execution_count": 19,
   "id": "68beec89",
   "metadata": {},
   "outputs": [
    {
     "data": {
      "text/plain": [
       "array([ 1.97300198e-03,  6.94203811e-04,  2.51239863e+01, -1.12558359e-01,\n",
       "       -4.01309190e-06, -2.53056743e-02, -1.47530136e-04,  1.77020162e-02,\n",
       "       -3.67679184e-02])"
      ]
     },
     "execution_count": 19,
     "metadata": {},
     "output_type": "execute_result"
    }
   ],
   "source": [
    "np.linalg.solve(test[feature_columns].transpose() @ test[feature_columns], test[feature_columns].transpose() @ test[y_column])"
   ]
  }
 ],
 "metadata": {
  "kernelspec": {
   "display_name": "Python 3.9.12 ('base')",
   "language": "python",
   "name": "python3"
  },
  "language_info": {
   "codemirror_mode": {
    "name": "ipython",
    "version": 3
   },
   "file_extension": ".py",
   "mimetype": "text/x-python",
   "name": "python",
   "nbconvert_exporter": "python",
   "pygments_lexer": "ipython3",
   "version": "3.9.13"
  },
  "vscode": {
   "interpreter": {
    "hash": "40d3a090f54c6569ab1632332b64b2c03c39dcf918b08424e98f38b5ae0af88f"
   }
  }
 },
 "nbformat": 4,
 "nbformat_minor": 5
}
