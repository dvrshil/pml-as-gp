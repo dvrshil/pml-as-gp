{
 "cells": [
  {
   "cell_type": "code",
   "execution_count": 2,
   "id": "40b8b45a",
   "metadata": {},
   "outputs": [],
   "source": [
    "from os.path import exists\n",
    "import requests\n",
    "from typing import *\n",
    "import matplotlib.pyplot as plt\n",
    "import scipy as sp\n",
    "import scipy.stats as stats\n",
    "\n",
    "import numpy as np\n",
    "import pandas as pd\n",
    "from tqdm.notebook import trange, tqdm"
   ]
  },
  {
   "cell_type": "markdown",
   "id": "1c3591ce",
   "metadata": {},
   "source": [
    "# Notebook 2: Probability and Linear Regression"
   ]
  },
  {
   "cell_type": "markdown",
   "id": "916d1cfa",
   "metadata": {},
   "source": [
    "## Problem 1: A Strange Regression Model\n",
    "\n",
    "Suppose we are fitting a regression model to a dataset $(x_i, y_i)_{1 \\leq i \\leq N}$\n",
    "\\begin{align*}\n",
    "p(y^i|x^i; \\theta) & = \\mathcal{N}(f_1(x_1^i) \\theta_1 + f_2(x_2^i) \\theta_2 + \\theta_3, 1) \\\\\n",
    "p(y |x; \\theta) & = \\prod_{i=1}^N p(y^i|x^i; \\theta)\n",
    "\\end{align*}\n",
    "where\n",
    "1. the inputs $x^i \\in \\mathbb{R}^2$ are 2-D vectors\n",
    "2. $f_1, f_2, f_3: \\mathbb{R} \\rightarrow \\mathbb{R}$ are arbitrary functions.\n",
    "3. $\\theta = (\\theta_1, \\theta_2, \\theta_3)$ is a vector of weights"
   ]
  },
  {
   "cell_type": "markdown",
   "id": "e48dd24a",
   "metadata": {},
   "source": [
    "### Problem 1a\n",
    "\n",
    "Implement the conditional density given below."
   ]
  },
  {
   "cell_type": "code",
   "execution_count": 3,
   "id": "62d050f2",
   "metadata": {},
   "outputs": [],
   "source": [
    "# Scout resources to verify correctness of the implementation.\n",
    "\n",
    "x1 = [2., 2.]\n",
    "x2 = [3., 4.]\n",
    "x3 = [5., 6.]\n",
    "\n",
    "x = np.array([x1, x2, x3])\n",
    "Y = np.array([7., 13., 30.])\n",
    "try_theta = np.array([.3, .67, .25])\n",
    "actual_thetas = [1.0, 0.5, 2.]\n",
    "\n",
    "def f1(x: float) -> float:\n",
    "    return x**2\n",
    "\n",
    "def f2(x: float) -> float:\n",
    "    return x"
   ]
  },
  {
   "cell_type": "code",
   "execution_count": 8,
   "id": "e74537c8",
   "metadata": {},
   "outputs": [],
   "source": [
    "def model1_density(f1: Callable[[float], float], f2: Callable[[float], float], theta: np.ndarray, x: np.ndarray) -> Callable[[np.ndarray], float]:\n",
    "    # f1 is function f_1\n",
    "    # f2 is function f_2\n",
    "    # theta is some choice of weights\n",
    "    # x is an input\n",
    "    # y: length N vector\n",
    "\n",
    "    x_new = np.concatenate([x, np.ones((x.shape[0], 1))], axis=1)\n",
    "    x_new[:, 0] = f1(x_new[:, 0])\n",
    "    x_new[:, 1] = f2(x_new[:, 1])\n",
    "\n",
    "    normals = [ stats.norm(loc= theta @ x_new[i], scale=1) for i in range(x_new.shape[0]) ]\n",
    "\n",
    "    #conditional_density = normals[0].pdf(Y[0]) * normals[1].pdf(Y[1]) * normals[2].pdf(Y[2])\n",
    "\n",
    "    return lambda y: np.prod([normals[i].pdf(y[i]) for i in range(len(y))])"
   ]
  },
  {
   "cell_type": "code",
   "execution_count": 9,
   "id": "720d2377",
   "metadata": {},
   "outputs": [
    {
     "name": "stdout",
     "output_type": "stream",
     "text": [
      "9.864009903343106e-90\n"
     ]
    }
   ],
   "source": [
    "density = model1_density(f1, f2, try_theta, x)\n",
    "\n",
    "print(density(Y))"
   ]
  },
  {
   "cell_type": "markdown",
   "id": "068d0eee",
   "metadata": {},
   "source": [
    "### Problem 1b\n",
    "\n",
    "Write a function that solves for the weights by finding the approximate minimum of the conditional density, i.e., solve\n",
    "$$\n",
    "\\operatorname{argmin}_{\\theta} -p(y | x; \\theta)\n",
    "$$\n",
    "1. The input $X^{N \\times 2}$ is a $N \\times 2$ matrix where row $i$ of the matrix contains the input $x^i$.\n",
    "2. The input $Y^N$ is a length $N$ vector where each entry contains the corresponding value $y^i$."
   ]
  },
  {
   "cell_type": "code",
   "execution_count": 5,
   "id": "289ecd8b",
   "metadata": {},
   "outputs": [
    {
     "data": {
      "application/vnd.jupyter.widget-view+json": {
       "model_id": "5f1618262be940cab952adcbcd0d8234",
       "version_major": 2,
       "version_minor": 0
      },
      "text/plain": [
       "  0%|          | 0/100 [00:00<?, ?it/s]"
      ]
     },
     "metadata": {},
     "output_type": "display_data"
    },
    {
     "data": {
      "application/vnd.jupyter.widget-view+json": {
       "model_id": "9c038564280a48af9fde88738b13a57f",
       "version_major": 2,
       "version_minor": 0
      },
      "text/plain": [
       "  0%|          | 0/100 [00:00<?, ?it/s]"
      ]
     },
     "metadata": {},
     "output_type": "display_data"
    },
    {
     "name": "stdout",
     "output_type": "stream",
     "text": [
      "Thetas obatained from grid search: [0.84848485 1.45454545 0.        ]\n",
      "Probability density based on these thetas: 0.04483163226933461\n"
     ]
    }
   ],
   "source": [
    "def solve_for_weights(f1: Callable[[float], float], f2: Callable[[float], float], X: np.ndarray, Y: np.ndarray) -> np.ndarray:\n",
    "    \n",
    "    thetaspace = np.linspace(0., 12.0, 100)\n",
    "\n",
    "    best_density = 0.\n",
    "    best_theta = np.array([1.5, .25, 0])\n",
    "    \n",
    "    for theta3 in tqdm(thetaspace):\n",
    "        theta = np.array([best_theta[0], best_theta[1], theta3])\n",
    "        density_f = model1_density(f1, f2, theta, x)\n",
    "        density = density_f(Y)\n",
    "        if density > best_density:\n",
    "            best_density = density\n",
    "            best_theta[2] = theta3\n",
    "\n",
    "    for theta2 in tqdm(thetaspace):\n",
    "        for theta1 in thetaspace:\n",
    "            theta = np.array([theta1, theta2, best_theta[2]])\n",
    "            density_f = model1_density(f1, f2, theta, x)\n",
    "            density = density_f(Y)\n",
    "            if density > best_density:\n",
    "                best_density = density\n",
    "                best_theta[0] = theta1\n",
    "                best_theta[1] = theta2\n",
    "\n",
    "    return best_theta\n",
    "\n",
    "grid_thetas = solve_for_weights(f1, f2, x, Y)\n",
    "\n",
    "print(\"Thetas obatained from grid search: \" + str(grid_thetas))\n",
    "\n",
    "density_f = model1_density(f1, f2, grid_thetas, x)\n",
    "density = density_f(Y)\n",
    "print(\"Probability density based on these thetas: \" + str(density))\n",
    "\n",
    "#can try plotting the density or set functions as identity functions: x comonents themselves"
   ]
  },
  {
   "cell_type": "markdown",
   "id": "9bb5a24b",
   "metadata": {},
   "source": [
    "### Problem 1c\n",
    "\n",
    "Transform the probabilistic model into a system that can be solved with linear algebra.\n",
    "```ts\n",
    "def linear_algebra_solve(X, Y):\n",
    "    X_p = np.concatenate([X, np.ones((Y.size[0], 1))], axis=1)\n",
    "    return np.linalg.solve(X_p.transpose() @ X_p, X_p.transpose() @ Y)\n",
    "```\n",
    "That is, come up with new matrix $X'$ and vector $Y'$ such that it can be input into `linear_algebra_solve`ts to produce the same set of weights.\n"
   ]
  },
  {
   "cell_type": "code",
   "execution_count": 6,
   "id": "38d3e4c3",
   "metadata": {},
   "outputs": [
    {
     "name": "stdout",
     "output_type": "stream",
     "text": [
      "Thetas obtained from linear algebra: [1.  0.5 2. ]\n",
      "Probability density based on these thetas: 0.06349363593424098\n"
     ]
    }
   ],
   "source": [
    "def transform(f1: Callable[[float], float], f2: Callable[[float], float], X: np.ndarray, Y: np.ndarray) -> Tuple[np.ndarray, np.ndarray]:\n",
    "    \n",
    "    # X is a matrix of inputs\n",
    "    # Y is a vector of outputs\n",
    "\n",
    "    # return a new X and Y\n",
    "\n",
    "    new_X = np.array([f1(x[:, 0]), f2(x[:, 1])]).T\n",
    "    #new_Y = Y\n",
    "\n",
    "    return new_X, Y\n",
    "\n",
    "def linear_algebra_solve(X, Y):\n",
    "    X_p = np.concatenate([X, np.ones((X.shape[0], 1))], axis=1)\n",
    "    return np.linalg.solve(X_p.transpose() @ X_p, X_p.transpose() @ Y)\n",
    "\n",
    "las_X, las_Y = transform(f1, f2, x, Y)\n",
    "linalg_thetas = linear_algebra_solve(las_X, las_Y)\n",
    "\n",
    "print(\"Thetas obtained from linear algebra: \" + str(linalg_thetas))\n",
    "\n",
    "linalg_density_f = model1_density(f1, f2, linalg_thetas, x)\n",
    "\n",
    "print(\"Probability density based on these thetas: \" + str(linalg_density_f(Y)))"
   ]
  },
  {
   "cell_type": "markdown",
   "id": "d4526ee4",
   "metadata": {},
   "source": [
    "## Problem 2: Mixture Model\n",
    "\n",
    "Suppose that we are performing regression in a setting with the following density\n",
    "$$\n",
    "p(y|x; \\theta, \\beta) = \\frac{1}{2}p_1(y|x; \\theta) + \\frac{1}{2}p_2(y|x; \\beta)\n",
    "$$\n",
    "where both $p_1(y|x; \\theta)$ and $p_2(y|x; \\theta)$ are linear regressions."
   ]
  },
  {
   "cell_type": "markdown",
   "id": "55784262",
   "metadata": {},
   "source": [
    "### Problem 2a\n",
    "\n",
    "Write a function that generates synthetic data according to the following probabilistic model.\n",
    "\\begin{align*}\n",
    "z^i & \\sim Bern(0.5) \\\\\n",
    "y^i & \\sim \\begin{cases}\n",
    "\\mathcal{N}(\\theta x^i, 1) & \\mbox{when $z^i = 0$} \\\\\n",
    "\\mathcal{N}(\\beta x^i, 1) & \\mbox{when $z^i = 1$}\n",
    "\\end{cases}\n",
    "\\end{align*}\n",
    "In this example, we are assuming that the inputs are a single real number."
   ]
  },
  {
   "cell_type": "code",
   "execution_count": 7,
   "id": "0c337a40",
   "metadata": {},
   "outputs": [
    {
     "data": {
      "image/png": "[encoded data removed]",
      "text/plain": [
       "<Figure size 432x288 with 1 Axes>"
      ]
     },
     "metadata": {
      "needs_background": "light"
     },
     "output_type": "display_data"
    }
   ],
   "source": [
    "def generate_dataset(theta: float, beta: float, x: np.ndarray) -> np.ndarray:\n",
    "    # X is a length N array\n",
    "    # Return N y's as a np.\n",
    "    \n",
    "    bern = sp.stats.bernoulli(0.5)\n",
    "    z = bern.rvs(size=50)\n",
    "\n",
    "    z0 = lambda x: stats.norm(loc=theta * x, scale=1)\n",
    "    z1 = lambda x: stats.norm(loc=beta * x, scale=1)\n",
    "\n",
    "    y = np.array([z0(x[i]).rvs() if z[i] == 0 else z1(x[i]).rvs() for i in range(len(x))])\n",
    "\n",
    "    #for i in range(len(z)):\n",
    "    #    if z[i] == 0:\n",
    "    #        y[i] = z0(x[i])\n",
    "    #    else: y[i] = z1(x[i])\n",
    "\n",
    "    return y\n",
    "\n",
    "#let's try plotting the y values\n",
    "\n",
    "x_mm = np.linspace(0, 10, 50)\n",
    "y_mm = generate_dataset(-2, 4, x_mm)\n",
    "\n",
    "plt.scatter(x_mm, y_mm)\n",
    "plt.title('Synthetic Dataset')\n",
    "plt.xlabel('x')\n",
    "plt.ylabel('y')\n",
    "plt.show()"
   ]
  },
  {
   "cell_type": "markdown",
   "id": "d93bb271",
   "metadata": {},
   "source": [
    "### Problem 2b\n",
    "\n",
    "Write a function that implements the conditional density\n",
    "$$\n",
    "p(y | x; \\theta, \\beta)\n",
    "$$\n",
    "assuming that each $y^i$ is conditionally independent of each other given $z_i$.\n"
   ]
  },
  {
   "cell_type": "code",
   "execution_count": 8,
   "id": "6dab3da4",
   "metadata": {},
   "outputs": [],
   "source": [
    "def mixture_model_density(theta: float, beta: float, X: np.ndarray, y: np.ndarray) -> float:\n",
    "    # X is a one dimensional array of x values, N\n",
    "    # dim(y) = dim(x)\n",
    "\n",
    "    normals0 = []\n",
    "    normals1 = []\n",
    "\n",
    "    normals0 = [ stats.norm(loc=np.dot(theta, X[i]), scale=1) for i in range(X.shape[0]) ]\n",
    "    normals1 = [ stats.norm(loc=np.dot(beta, X[i]), scale=1) for i in range(X.shape[0]) ]\n",
    "\n",
    "    #for i in range(x.shape[0]):\n",
    "\n",
    "    return np.prod([(0.5 * normals0[i].pdf(y[i]) + 0.5 * normals1[i].pdf(y[i])) for i in range(len(y))])"
   ]
  },
  {
   "cell_type": "markdown",
   "id": "f6c57116",
   "metadata": {},
   "source": [
    "### Problem 2c\n",
    "\n",
    "Write a function that finds the optimal parameters of $\\theta$ and $\\beta$, i.e., \n",
    "$$\n",
    "\\operatorname{argmin}_{\\theta} p(y | x; \\theta, \\beta) \\,.\n",
    "$$\n",
    "You can use `generate_dataset` to test if your code is working."
   ]
  },
  {
   "cell_type": "code",
   "execution_count": 9,
   "id": "287fb2ce",
   "metadata": {},
   "outputs": [
    {
     "data": {
      "application/vnd.jupyter.widget-view+json": {
       "model_id": "63049e3b29464184a1bc614a4e0845e4",
       "version_major": 2,
       "version_minor": 0
      },
      "text/plain": [
       "  0%|          | 0/50 [00:00<?, ?it/s]"
      ]
     },
     "metadata": {},
     "output_type": "display_data"
    },
    {
     "name": "stdout",
     "output_type": "stream",
     "text": [
      "(theta, beta): (-1.8775510204081636, 4.0)\n",
      "Density based on these weights: 2.9332597770789448e-43\n"
     ]
    },
    {
     "data": {
      "text/plain": [
       "(None, None)"
      ]
     },
     "execution_count": 9,
     "metadata": {},
     "output_type": "execute_result"
    }
   ],
   "source": [
    "def solve_mixture_model_density(X: np.ndarray, Y: np.ndarray) -> Tuple[float, float]:\n",
    "    # X contains a length N array of inputs of dimension 1\n",
    "    # Y contains a length N array of outputs\n",
    "    \n",
    "    best_theta = 0.0\n",
    "    best_beta = 0.0\n",
    "    best_density = 0.0\n",
    "        \n",
    "    searchspace = np.linspace(-4, 4)\n",
    "\n",
    "    for theta in tqdm(searchspace):\n",
    "        for beta in searchspace:\n",
    "            density = mixture_model_density(theta, beta, X, Y)\n",
    "            if density > best_density:\n",
    "                best_density = density\n",
    "                best_theta = theta\n",
    "                best_beta = beta\n",
    "    \n",
    "    return best_theta, best_beta\n",
    "\n",
    "thetas_mm = solve_mixture_model_density(x_mm, y_mm)\n",
    "\n",
    "print(\"(theta, beta): \" + str(thetas_mm)), print(\"Density based on these weights: \" + str(mixture_model_density(thetas_mm[0], thetas_mm[1], x_mm, y_mm)))"
   ]
  },
  {
   "cell_type": "markdown",
   "id": "bb03b443",
   "metadata": {},
   "source": [
    "## Problem 3: Linear Regression, Duplicate Data\n",
    "\n",
    "Suppose we have a dataset $(x_i, y_i)_{1 \\leq i \\leq N}$.\n",
    "Suppose we duplicate this dataset so that it now contains a copy of each item.\n",
    "Explain in words what happens to the weights of the linear regression in terms of the linear algebra solution and in terms of the probabilistic interpretation. Compare and contrast the two solutions. You can additionally write code and give experimental evidence as well."
   ]
  },
  {
   "cell_type": "markdown",
   "id": "00bb2cf1",
   "metadata": {},
   "source": [
    "### Answer: \n",
    "\n",
    "In terms of the linear algebra solution, the weights of the linear regression should not change when the dataset is duplicated. This is because the linear algebra solution is simply a matrix multiplication, and duplicate rows in the dataset do not change the product.\n",
    "\n",
    "In terms of the probabilistic interpretation, the weights of the linear regression should change when the dataset is duplicated. This is because the probabilistic interpretation is based on minimizing the sum of squared errors, and doubling the dataset doubles the sum of squared errors. Therefore, the weights that minimize the sum of squared errors will be different when the dataset is duplicated.\n",
    "\n",
    "Extra Notes: \n",
    "1) Weights stay the same in both cases.\n",
    "2) Loss increases with duplicate data.\n",
    "3) Mean (weights) stays the same, but the variance decreases."
   ]
  },
  {
   "cell_type": "code",
   "execution_count": 10,
   "id": "b56d3fa9",
   "metadata": {},
   "outputs": [],
   "source": [
    "# Function: 4x+5: using 1a, theta1 = 4, theta2 = 5\n",
    "\n",
    "x1 = [2., 1.]\n",
    "x2 = [4., 1.]\n",
    "x3 = [6., 1.]\n",
    "x4 = [8., 1.]\n",
    "x5 = [10., 1.]\n",
    "\n",
    "x = np.array([x1, x2, x3, x4, x5])\n",
    "y = [13., 21., 29., 37., 45.]\n",
    "\n",
    "# repeat the elements of x and y 5 times\n",
    "\n",
    "x5 = np.repeat(x, 5, axis=0)\n",
    "y5 = np.repeat(y, 5, axis=0)"
   ]
  },
  {
   "cell_type": "code",
   "execution_count": 11,
   "id": "ebcb25dc",
   "metadata": {},
   "outputs": [
    {
     "name": "stdout",
     "output_type": "stream",
     "text": [
      "Thetas obtained from linear algebra (with duplications): [4. 5.]\n"
     ]
    }
   ],
   "source": [
    "thetas = np.linalg.solve(x5.transpose() @ x5, x5.transpose() @ y5)\n",
    "\n",
    "print(\"Thetas obtained from linear algebra (with duplications): \" + str(thetas))"
   ]
  },
  {
   "cell_type": "code",
   "execution_count": null,
   "id": "781bb9f6",
   "metadata": {},
   "outputs": [],
   "source": [
    "temp=[]\n",
    "for i in range(len(coords)):\n",
    "    if i not in temp:\n",
    "        for j in range(i+1,len(coords)):\n",
    "            c1=coords[i]\n",
    "            c2=coords[j]\n",
    "            C1=SkyCoord(c1[0],c1[1], frame='galactic',unit=u.deg)\n",
    "            C2=SkyCoord(c2[0],c2[1], frame='galactic',unit=u.deg)\n",
    "            if C1.separation(C2)<=0.005*u.deg:\n",
    "                temp.append(j)\n",
    "new_coords=[]\n",
    "for i in range(len(coords)):\n",
    "    if i in temp:\n",
    "        continue\n",
    "    else:\n",
    "        new_coords.append(coords[i])\n",
    "coords=new_coords\n",
    "len(coords)"
   ]
  }
 ],
 "metadata": {
  "kernelspec": {
   "display_name": "Python 3 (ipykernel)",
   "language": "python",
   "name": "python3"
  },
  "language_info": {
   "codemirror_mode": {
    "name": "ipython",
    "version": 3
   },
   "file_extension": ".py",
   "mimetype": "text/x-python",
   "name": "python",
   "nbconvert_exporter": "python",
   "pygments_lexer": "ipython3",
   "version": "3.9.13"
  },
  "vscode": {
   "interpreter": {
    "hash": "40d3a090f54c6569ab1632332b64b2c03c39dcf918b08424e98f38b5ae0af88f"
   }
  }
 },
 "nbformat": 4,
 "nbformat_minor": 5
}
